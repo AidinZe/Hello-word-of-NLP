{
 "cells": [
  {
   "cell_type": "markdown",
   "metadata": {},
   "source": [
    "# import necessary files for training "
   ]
  },
  {
   "cell_type": "code",
   "execution_count": 1,
   "metadata": {},
   "outputs": [
    {
     "name": "stderr",
     "output_type": "stream",
     "text": [
      "Using TensorFlow backend.\n"
     ]
    }
   ],
   "source": [
    "from keras.datasets import reuters\n",
    "from keras import models,layers,regularizers\n",
    "import numpy as np\n",
    "import matplotlib.pyplot as plt"
   ]
  },
  {
   "cell_type": "markdown",
   "metadata": {},
   "source": [
    "# read and pretrain data"
   ]
  },
  {
   "cell_type": "code",
   "execution_count": 2,
   "metadata": {},
   "outputs": [],
   "source": [
    "(traindata,trainlabel),(testdata,testlabel) = reuters.load_data(num_words=10000,test_split=0.2)"
   ]
  },
  {
   "cell_type": "markdown",
   "metadata": {},
   "source": [
    "# Change the nature of data for processing"
   ]
  },
  {
   "cell_type": "code",
   "execution_count": 3,
   "metadata": {},
   "outputs": [],
   "source": [
    "def vec_sec(sec,dim = 10000):\n",
    "    resalts = np.zeros((len(sec),dim))\n",
    "    for i , sec in enumerate(sec):\n",
    "        resalts[i,sec] = 1.\n",
    "    return resalts"
   ]
  },
  {
   "cell_type": "markdown",
   "metadata": {},
   "source": [
    "# Change labels onehot"
   ]
  },
  {
   "cell_type": "code",
   "execution_count": 4,
   "metadata": {},
   "outputs": [],
   "source": [
    "def to_one_hot(labels,dimention = 46):\n",
    "    resalts = np.zeros((len(labels),dimention))\n",
    "    for i , labels in enumerate(labels):\n",
    "        resalts[i,labels] = 1.\n",
    "    return resalts"
   ]
  },
  {
   "cell_type": "code",
   "execution_count": 5,
   "metadata": {},
   "outputs": [],
   "source": [
    "train_y = to_one_hot(trainlabel)"
   ]
  },
  {
   "cell_type": "code",
   "execution_count": 6,
   "metadata": {},
   "outputs": [],
   "source": [
    "test_y = to_one_hot(testlabel)"
   ]
  },
  {
   "cell_type": "code",
   "execution_count": 7,
   "metadata": {},
   "outputs": [],
   "source": [
    "train_x = vec_sec(traindata)"
   ]
  },
  {
   "cell_type": "code",
   "execution_count": 8,
   "metadata": {},
   "outputs": [],
   "source": [
    "test_x = vec_sec(testdata)"
   ]
  },
  {
   "cell_type": "markdown",
   "metadata": {},
   "source": [
    "# Separate train and validation"
   ]
  },
  {
   "cell_type": "code",
   "execution_count": 9,
   "metadata": {},
   "outputs": [],
   "source": [
    "pre_train_x = train_x[1000:]\n",
    "pre_train_y = train_y[1000:]\n",
    "val_x =train_x[:1000]\n",
    "val_y = train_y[:1000]"
   ]
  },
  {
   "cell_type": "markdown",
   "metadata": {},
   "source": [
    "# create model for train "
   ]
  },
  {
   "cell_type": "code",
   "execution_count": 32,
   "metadata": {},
   "outputs": [],
   "source": [
    "model = models.Sequential()\n",
    "model.add(layers.Dense(256, kernel_regularizer= regularizers.l2(0.0001) ,activation='relu',input_shape=(10000,)))\n",
    "model.add(layers.Dropout(0.52))\n",
    "model.add(layers.Dense(46,activation='sigmoid'))"
   ]
  },
  {
   "cell_type": "markdown",
   "metadata": {},
   "source": [
    "# compile model with Specific optimizer and lost function"
   ]
  },
  {
   "cell_type": "code",
   "execution_count": 33,
   "metadata": {},
   "outputs": [],
   "source": [
    "model.compile(optimizer='rmsprop',loss='categorical_crossentropy',metrics=['acc'])"
   ]
  },
  {
   "cell_type": "markdown",
   "metadata": {},
   "source": [
    "# fit model for train "
   ]
  },
  {
   "cell_type": "code",
   "execution_count": 34,
   "metadata": {},
   "outputs": [
    {
     "name": "stdout",
     "output_type": "stream",
     "text": [
      "Train on 7982 samples, validate on 1000 samples\n",
      "Epoch 1/4\n",
      "7982/7982 [==============================] - 13s 2ms/step - loss: 1.8670 - acc: 0.6077 - val_loss: 1.0547 - val_acc: 0.7810\n",
      "Epoch 2/4\n",
      "7982/7982 [==============================] - 11s 1ms/step - loss: 0.8889 - acc: 0.8142 - val_loss: 0.9105 - val_acc: 0.8160\n",
      "Epoch 3/4\n",
      "7982/7982 [==============================] - 11s 1ms/step - loss: 0.6497 - acc: 0.8685 - val_loss: 0.8726 - val_acc: 0.8270\n",
      "Epoch 4/4\n",
      "7982/7982 [==============================] - 11s 1ms/step - loss: 0.5264 - acc: 0.8955 - val_loss: 0.8124 - val_acc: 0.8300\n"
     ]
    }
   ],
   "source": [
    "history = model.fit(pre_train_x,pre_train_y,epochs=4,batch_size=64 , validation_data=(val_x,val_y))"
   ]
  },
  {
   "cell_type": "markdown",
   "metadata": {},
   "source": [
    "# predict new data from trained model"
   ]
  },
  {
   "cell_type": "code",
   "execution_count": 35,
   "metadata": {},
   "outputs": [],
   "source": [
    "predict = model.predict(test_x)"
   ]
  },
  {
   "cell_type": "markdown",
   "metadata": {},
   "source": [
    "# predict prcent"
   ]
  },
  {
   "cell_type": "code",
   "execution_count": 36,
   "metadata": {},
   "outputs": [
    {
     "name": "stdout",
     "output_type": "stream",
     "text": [
      "predict = 81.345%\n"
     ]
    }
   ],
   "source": [
    "count = 0\n",
    "for i in range(len(predict)):\n",
    "    if np.argmax(predict[i]) == np.argmax(test_y[i]):\n",
    "        count += 1\n",
    "print('predict = '+str(round((count*100)/len(predict),3))+'%')"
   ]
  },
  {
   "cell_type": "markdown",
   "metadata": {},
   "source": [
    "# show loss and accuracy data in chart"
   ]
  },
  {
   "cell_type": "code",
   "execution_count": 15,
   "metadata": {},
   "outputs": [],
   "source": [
    "history_dict = history.history"
   ]
  },
  {
   "cell_type": "code",
   "execution_count": 16,
   "metadata": {},
   "outputs": [
    {
     "data": {
      "image/png": "[encoded data removed]",
      "text/plain": [
       "<Figure size 432x288 with 1 Axes>"
      ]
     },
     "metadata": {
      "needs_background": "light"
     },
     "output_type": "display_data"
    }
   ],
   "source": [
    "epochs = range(1,len(history_dict['acc'])+1)\n",
    "plt.plot(epochs ,history_dict['val_loss'],'r-',label='validition loss')\n",
    "plt.plot(epochs ,history_dict['loss'],'b',label=' loss')\n",
    "plt.title('Training and validition loss')\n",
    "plt.xlabel('epochs')\n",
    "plt.ylabel('loss')\n",
    "plt.legend()\n",
    "plt.show()"
   ]
  },
  {
   "cell_type": "code",
   "execution_count": 17,
   "metadata": {},
   "outputs": [
    {
     "data": {
      "image/png": "[encoded data removed]",
      "text/plain": [
       "<Figure size 432x288 with 1 Axes>"
      ]
     },
     "metadata": {
      "needs_background": "light"
     },
     "output_type": "display_data"
    }
   ],
   "source": [
    "epochs = range(1,len(history_dict['acc'])+1)\n",
    "plt.plot(epochs ,history_dict['val_acc'],'r-',label='validition accuracy')\n",
    "plt.plot(epochs ,history_dict['acc'],'b',label=' accuracy')\n",
    "plt.title('Training and validition accuracy')\n",
    "plt.xlabel('epochs')\n",
    "plt.ylabel('loss')\n",
    "plt.legend()\n",
    "plt.show()"
   ]
  },
  {
   "cell_type": "code",
   "execution_count": 18,
   "metadata": {},
   "outputs": [],
   "source": [
    "#github.com/aidinze"
   ]
  }
 ],
 "metadata": {
  "kernelspec": {
   "display_name": "py_36",
   "language": "python",
   "name": "py_36"
  },
  "language_info": {
   "codemirror_mode": {
    "name": "ipython",
    "version": 3
   },
   "file_extension": ".py",
   "mimetype": "text/x-python",
   "name": "python",
   "nbconvert_exporter": "python",
   "pygments_lexer": "ipython3",
   "version": "3.6.7"
  }
 },
 "nbformat": 4,
 "nbformat_minor": 2
}
